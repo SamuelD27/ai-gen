{
 "nbformat": 4,
 "nbformat_minor": 0,
 "metadata": {
  "colab": {
   "provenance": [],
   "gpuType": "T4"
  },
  "kernelspec": {
   "name": "python3",
   "display_name": "Python 3"
  },
  "language_info": {
   "name": "python"
  },
  "accelerator": "GPU"
 },
 "cells": [
  {
   "cell_type": "markdown",
   "source": [
    "# 🎨 ai-gen - LoRA Training & Image Generation\n",
    "\n",
    "**Train LoRAs and generate ultra-realistic images with NO restrictions**\n",
    "\n",
    "---\n",
    "\n",
    "## 🚀 Quick Start\n",
    "\n",
    "1. **Enable GPU**: Runtime → Change runtime type → T4 GPU\n",
    "2. **Run Cell 1**: Setup (installs everything)\n",
    "3. **Access GUI**: Click the ngrok URL when it appears\n",
    "\n",
    "---"
   ],
   "metadata": {
    "id": "header"
   }
  },
  {
   "cell_type": "code",
   "source": "# CELL 1: Complete Setup & Launch\n# Run this cell - takes about 10-15 minutes\n\nprint(\"🚀 Starting MASUKA setup...\\n\")\n\n# Clean up any previous installations to force fresh download\nprint(\"🧹 Cleaning previous installations...\")\n!rm -rf /content/CharForgex /content/ai-gen 2>/dev/null || true\n\n# Clone the latest version from GitHub\nprint(\"📥 Downloading latest version from GitHub...\")\n!git clone https://github.com/SamuelD27/ai-gen.git /content/ai-gen\n\n# Change to repo directory\nimport os\nos.chdir('/content/ai-gen')\n\n# Always pull latest changes to ensure we have the newest code\nprint(\"🔄 Ensuring latest version...\")\n!git pull origin main\n\n# Download and run the setup script\nprint(\"⚙️  Running setup script...\\n\")\n!python masuka_colab_setup.py",
   "metadata": {
    "id": "setup"
   },
   "execution_count": null,
   "outputs": []
  }
 ]
}