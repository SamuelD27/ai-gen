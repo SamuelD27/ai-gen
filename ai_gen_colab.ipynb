{
 "nbformat": 4,
 "nbformat_minor": 0,
 "metadata": {
  "colab": {
   "provenance": [],
   "gpuType": "T4"
  },
  "kernelspec": {
   "name": "python3",
   "display_name": "Python 3"
  },
  "language_info": {
   "name": "python"
  },
  "accelerator": "GPU"
 },
 "cells": [
  {
   "cell_type": "markdown",
   "source": [
    "# 🎨 ai-gen - LoRA Training & Image Generation\n",
    "\n",
    "**Train LoRAs and generate ultra-realistic images with NO restrictions**\n",
    "\n",
    "---\n",
    "\n",
    "## 🚀 Quick Start\n",
    "\n",
    "1. **Enable GPU**: Runtime → Change runtime type → T4 GPU\n",
    "2. **Run Cell 1**: Setup (installs everything)\n",
    "3. **Access GUI**: Click the ngrok URL when it appears\n",
    "\n",
    "---"
   ],
   "metadata": {
    "id": "header"
   }
  },
  {
   "cell_type": "code",
   "source": "# CELL 1: Complete Setup & Launch\n# Run this cell - takes about 10-15 minutes\n\nprint(\"🚀 Starting MASUKA setup...\\n\")\n\n# Clean up any previous installations to force fresh download\nprint(\"🧹 Cleaning previous installations...\")\n!rm -rf /content/CharForgex /content/ai-gen 2>/dev/null || true\n\n# Clone the latest version from GitHub\nprint(\"📥 Downloading latest version from GitHub...\")\n!git clone https://github.com/SamuelD27/ai-gen.git /content/ai-gen\n\n# Change to repo directory\nimport os\nos.chdir('/content/ai-gen')\n\n# Always pull latest changes to ensure we have the newest code\nprint(\"🔄 Ensuring latest version...\")\n!git pull origin main\n\n# Download and run the setup script\nprint(\"⚙️  Running setup script...\\n\")\n!python masuka_colab_setup.py",
   "metadata": {
    "id": "setup"
   },
   "execution_count": null,
   "outputs": []
  },
  {
   "cell_type": "code",
   "source": "# CELL 2: Clear Python Cache & Restart Backend\n# Run this cell if you've updated code and need to reload changes\n\nprint(\"🧹 Clearing Python cache...\")\n\n# Remove all __pycache__ directories and .pyc files\n!find /content/ai-gen -type d -name __pycache__ -exec rm -rf {} + 2>/dev/null || true\n!find /content/ai-gen -type f -name \"*.pyc\" -delete 2>/dev/null || true\n\nprint(\"✓ Python cache cleared\")\n\n# Pull latest changes from git if connected\nprint(\"\\n🔄 Pulling latest changes from repository...\")\nimport os\nos.chdir('/content/ai-gen')\n!git pull origin main\n\nprint(\"\\n✓ Ready to restart backend\")\nprint(\"\\n💡 To restart the backend:\")\nprint(\"   1. Stop the current backend (if running): Press the stop button on Cell 1\")\nprint(\"   2. Re-run Cell 1 to start with fresh code\")\nprint(\"\\nOR run this to restart automatically:\")\n\n# Kill existing backend process\n!pkill -f \"uvicorn app.main:app\" 2>/dev/null || true\n\nimport time\ntime.sleep(2)\n\n# Restart backend in background\nprint(\"\\n🚀 Restarting backend...\")\nimport subprocess\nos.chdir('/content/ai-gen/charforge-gui/backend')\nsubprocess.Popen(['python', '-m', 'uvicorn', 'app.main:app', '--host', '0.0.0.0', '--port', '8000', '--reload'])\n\ntime.sleep(5)\nprint(\"✓ Backend restarted with fresh code!\")\nprint(\"\\n🌐 Frontend should reconnect automatically\")\nprint(\"   If not, refresh your browser\")",
   "metadata": {},
   "execution_count": null,
   "outputs": []
  }
 ]
}