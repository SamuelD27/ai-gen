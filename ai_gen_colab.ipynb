{
 "nbformat": 4,
 "nbformat_minor": 0,
 "metadata": {
  "colab": {
   "provenance": [],
   "gpuType": "T4"
  },
  "kernelspec": {
   "name": "python3",
   "display_name": "Python 3"
  },
  "language_info": {
   "name": "python"
  },
  "accelerator": "GPU"
 },
 "cells": [
  {
   "cell_type": "markdown",
   "source": [
    "# 🎨 ai-gen - LoRA Training & Image Generation\n",
    "\n",
    "**Train LoRAs and generate ultra-realistic images with NO restrictions**\n",
    "\n",
    "---\n",
    "\n",
    "## 🚀 Quick Start\n",
    "\n",
    "1. **Enable GPU**: Runtime → Change runtime type → T4 GPU\n",
    "2. **Run Cell 1**: Setup (installs everything)\n",
    "3. **Access GUI**: Click the ngrok URL when it appears\n",
    "\n",
    "---"
   ],
   "metadata": {
    "id": "header"
   }
  },
  {
   "cell_type": "code",
   "source": [
    "# CELL 1: Complete Setup & Launch\n",
    "# Run this cell - takes about 10-15 minutes\n",
    "\n",
    "print(\"🚀 Starting ai-gen setup...\\n\")\n",
    "\n",
    "# Download and run setup script\n",
    "!wget -q https://raw.githubusercontent.com/SamuelD27/ai-gen/main/colab_setup.py\n",
    "!python colab_setup.py"
   ],
   "metadata": {
    "id": "setup"
   },
   "execution_count": null,
   "outputs": []
  }
 ]
}
